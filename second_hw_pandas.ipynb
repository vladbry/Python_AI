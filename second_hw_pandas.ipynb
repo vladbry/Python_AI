{
 "cells": [
  {
   "cell_type": "code",
   "execution_count": 148,
   "metadata": {},
   "outputs": [],
   "source": [
    "import pandas as pd\n",
    "import pandas as df\n",
    "import matplotlib.pyplot as plt"
   ]
  },
  {
   "cell_type": "code",
   "execution_count": null,
   "metadata": {},
   "outputs": [],
   "source": [
    "url_first_part = \"https://raw.githubusercontent.com/fivethirtyeight/data/master/births/US_births_1994-2003_CDC_NCHS.csv\"\n",
    "url_second_part = \"https://raw.githubusercontent.com/fivethirtyeight/data/master/births/US_births_2000-2014_SSA.csv\"\n",
    "\n",
    "df_first_part = pd.read_csv(url_first_part)\n",
    "df_first_part = df_first_part.set_index('year')\n",
    "df_first_part.drop(labels=[2002, 2003], axis = 0, inplace=True)\n",
    "\n",
    "\n",
    "df_second_part = pd.read_csv(url_second_part)\n",
    "df_second_part = df_second_part.set_index('year')\n",
    "df_second_part.drop(labels=[2000, 2001], axis = 0, inplace=True)\n",
    "\n",
    "df_first_part"
   ]
  },
  {
   "cell_type": "code",
   "execution_count": null,
   "metadata": {},
   "outputs": [],
   "source": [
    "df_second_part"
   ]
  },
  {
   "cell_type": "code",
   "execution_count": null,
   "metadata": {},
   "outputs": [],
   "source": [
    "final_pandas = pd.concat([df_first_part, df_second_part])\n",
    "final_pandas['date'] = final_pandas['date_of_month'].astype(str) + '-' + final_pandas['month'].astype(str) + '-' + final_pandas.index.astype(str)\n",
    "final_pandas"
   ]
  },
  {
   "cell_type": "code",
   "execution_count": null,
   "metadata": {},
   "outputs": [],
   "source": [
    "df_first_part['date'] = df_first_part['date_of_month'].astype(str) + '-' + df_first_part['month'].astype(str) + '-' + df_first_part.index.astype(str)\n",
    "df_first_part"
   ]
  },
  {
   "cell_type": "code",
   "execution_count": 137,
   "metadata": {},
   "outputs": [],
   "source": [
    "df_first_part.drop(labels=[1994, 1995, 1996, 1998, 1999, 2000, 2001], axis=0, inplace=True)"
   ]
  },
  {
   "cell_type": "code",
   "execution_count": null,
   "metadata": {},
   "outputs": [],
   "source": [
    "df_first_part"
   ]
  },
  {
   "cell_type": "code",
   "execution_count": null,
   "metadata": {},
   "outputs": [],
   "source": [
    "fig = plt.figure()\n",
    "ax = fig.add_subplot(111)\n",
    "ax.plot(df_first_part['month'], df_first_part['births'], marker='o')\n",
    "fig.set_facecolor('grey')\n",
    "ax.set_title('Рождаемость за 1997 год', size = 20)\n",
    "ax.set_xlabel('month', size = 15)\n",
    "ax.set_ylabel('births', size = 15)\n",
    "\n",
    "plt.show()"
   ]
  },
  {
   "cell_type": "code",
   "execution_count": 140,
   "metadata": {},
   "outputs": [],
   "source": [
    "pandas_jan = df_first_part"
   ]
  },
  {
   "cell_type": "code",
   "execution_count": 141,
   "metadata": {},
   "outputs": [],
   "source": [
    "pandas_jan = pandas_jan.set_index('month')\n",
    "pandas_jan = pandas_jan.drop([2,3,4,5,6,7,8,9,10,11,12], axis=0)"
   ]
  },
  {
   "cell_type": "code",
   "execution_count": null,
   "metadata": {},
   "outputs": [],
   "source": [
    "pandas_jan"
   ]
  },
  {
   "cell_type": "code",
   "execution_count": 143,
   "metadata": {},
   "outputs": [],
   "source": [
    "pandas_dec = df_first_part\n",
    "pandas_dec = pandas_dec.set_index('month')\n",
    "pandas_dec = pandas_dec.drop([1,2,3,4,5,6,7,8,9,10,11], axis=0)"
   ]
  },
  {
   "cell_type": "code",
   "execution_count": null,
   "metadata": {},
   "outputs": [],
   "source": [
    "pandas_dec"
   ]
  },
  {
   "cell_type": "code",
   "execution_count": null,
   "metadata": {},
   "outputs": [],
   "source": [
    "plt.bar('jan', pandas_jan['births'])\n",
    "plt.bar('dec', pandas_dec['births'])"
   ]
  }
 ],
 "metadata": {
  "kernelspec": {
   "display_name": "Python 3",
   "language": "python",
   "name": "python3"
  },
  "language_info": {
   "codemirror_mode": {
    "name": "ipython",
    "version": 3
   },
   "file_extension": ".py",
   "mimetype": "text/x-python",
   "name": "python",
   "nbconvert_exporter": "python",
   "pygments_lexer": "ipython3",
   "version": "3.10.9"
  },
  "orig_nbformat": 4,
  "vscode": {
   "interpreter": {
    "hash": "d1a8af0663c83836868730c02e865fdeee82d18cd2bfe78e6624017e58257b43"
   }
  }
 },
 "nbformat": 4,
 "nbformat_minor": 2
}
