{
 "cells": [
  {
   "cell_type": "code",
   "execution_count": 18,
   "metadata": {},
   "outputs": [],
   "source": [
    "import requests, json, urllib.parse\n",
    "base_url = 'https://itunes.apple.com/search'\n",
    "\n",
    "\n",
    "artist = 'Агата Кристи'\n",
    "\n",
    "\n",
    "params = {\n",
    "    'term': artist,\n",
    "    'limit': 200,    \n",
    "    'media': 'music',\n",
    "    'entity': 'song',\n",
    "    'attribute': 'artistTerm'\n",
    "}\n",
    "\n",
    "response = requests.get(f\"{base_url}?{urllib.parse.urlencode(params)}\")\n",
    "\n",
    "data = json.loads(response.text)\n",
    "data = data['results']"
   ]
  },
  {
   "cell_type": "code",
   "execution_count": 19,
   "metadata": {},
   "outputs": [],
   "source": [
    "import dateutil.parser\n",
    "data = map(lambda x: {**x, 'releaseDate': dateutil.parser.isoparse(x['releaseDate'])}, data)\n",
    "data = list(data)"
   ]
  },
  {
   "cell_type": "code",
   "execution_count": 20,
   "metadata": {},
   "outputs": [],
   "source": [
    "data = map(lambda x: {\n",
    "    'artistName': x['artistName'],\n",
    "    'kind' : x['kind'],\n",
    "    'artistId': x['artistId'],\n",
    "    'collectionId': x['collectionId'],\n",
    "    'trackId': x['trackId'],\n",
    "    'artistName': x['artistName'],\n",
    "    'collectionName': x['collectionName'],\n",
    "    'trackName': x['trackName'],\n",
    "    'collectionPrice': x['collectionPrice'],\n",
    "    'trackPrice': x['trackPrice'],\n",
    "    'releaseDate': x['releaseDate'],\n",
    "    'trackCount': x['trackCount'],\n",
    "    'trackNumber': x['trackNumber'],\n",
    "    'trackTimeMillis': x['trackTimeMillis'],\n",
    "    'country': x['country'],\n",
    "    'currency': x['currency'],\n",
    "    'primaryGenreName': x['primaryGenreName']\n",
    "}, data)\n",
    "data = list(data)"
   ]
  },
  {
   "cell_type": "code",
   "execution_count": 21,
   "metadata": {},
   "outputs": [],
   "source": [
    "def convert_millis(millis: int) -> str:\n",
    "    total_seconds = millis // 1000\n",
    "    seconds = total_seconds % 60\n",
    "    minutes = (total_seconds // 60) % 60\n",
    "    hours = (total_seconds // (60 * 60))\n",
    "    return f\"{hours}:Hours,{minutes}:Minutes,{seconds}:Seconds\""
   ]
  },
  {
   "cell_type": "code",
   "execution_count": 22,
   "metadata": {},
   "outputs": [
    {
     "name": "stdout",
     "output_type": "stream",
     "text": [
      "98\n",
      "['Rock', 'Rock', 'Rock', 'Rock', 'Rock', 'Rock', 'Rock', 'Rock', 'Rock', 'Rock', 'Rock', 'Rock', 'Rock', 'Rock', 'Rock', 'Rock', 'Rock', 'Rock', 'Rock', 'Rock', 'Rock', 'Rock', 'Rock', 'Rock', 'Rock', 'Rock', 'Rock', 'Rock', 'Rock', 'Rock', 'Rock', 'Rock', 'Rock', 'Rock', 'Rock', 'Rock', 'Rock', 'Rock', 'Rock', 'Rock', 'Rock', 'Rock', 'Rock', 'Rock', 'Rock', 'Rock', 'Rock', 'Rock', 'Rock', 'Rock', 'Rock', 'Rock', 'Rock', 'Rock', 'Rock', 'Rock', 'Rock', 'Rock', 'Rock', 'Rock', 'Rock', 'Rock', 'Rock', 'Rock', 'Rock', 'Rock', 'Rock', 'Rock', 'Rock', 'Rock', 'Rock', 'Rock', 'Rock', 'Rock', 'Rock', 'Rock', 'Rock', 'Rock', 'Rock', 'Rock', 'Rock', 'Rock', 'Rock', 'Rock', 'Rock', 'Rock', 'Rock', 'Rock', 'Rock', 'Rock', 'Rock', 'Rock', 'Rock', 'Rock', 'Rock', 'Rock', 'Rock', 'Rock', 'Rock', 'Rock', 'Rock', 'Rock', 'Rock', 'Rock', 'Rock', 'Rock', 'Rock', 'Rock', 'Rock', 'Rock', 'Rock', 'Rock', 'Rock', 'Rock', 'Rock', 'Rock', 'Rock', 'Rock', 'Rock', 'Rock', 'Rock', 'Rock', 'Rock', 'Rock', 'Rock', 'Rock', 'Rock', 'Rock', 'Rock', 'Rock', 'Rock', 'Rock', 'Rock', 'Rock']\n",
      "18\n",
      "30507773\n",
      "227669\n",
      "227980.0\n",
      "Халигаликришна 341507\n",
      "Собачье сердце 108933\n",
      "172.56\n",
      "1.2877611940298508\n",
      "1.29\n",
      "Как на войне 1.29\n",
      "Всё, как он сказал (Anton Sevidov Electro-Punk 1981 Remix) 0.99\n"
     ]
    }
   ],
   "source": [
    "from statistics import mean, median\n",
    "countSong = len(set(list(map(lambda x: x['trackName'], data))))\n",
    "primaryGenreName = list(map(lambda x: x['primaryGenreName'], data))\n",
    "countCollection = len(set(list(map(lambda x: x['collectionName'], data))))\n",
    "timeCount = sum(list(map(lambda x: x['trackTimeMillis'], data)))\n",
    "AverageTime = int(mean(list(map(lambda x: x['trackTimeMillis'], data))))\n",
    "MedianTime = list(map(lambda x: x['trackTimeMillis'], data))\n",
    "MedianTime.sort()\n",
    "MedianTime = median(MedianTime)\n",
    "time_extractor = lambda x: x['trackTimeMillis']\n",
    "LongestTime = max(data, key=time_extractor)\n",
    "ShortesTime = min(data, key=time_extractor)\n",
    "AllTrackPrice = sum(list(map(lambda x: x['trackPrice'], data)))\n",
    "AverageTrackPrice = mean(list(map(lambda x: x['trackPrice'], data)))\n",
    "MedianTrackPrice = list(map(lambda x: x['trackPrice'], data))\n",
    "MedianTrackPrice.sort()\n",
    "MedianTrackPrice = median(MedianTrackPrice)\n",
    "price_extractor = lambda x: x['trackPrice']\n",
    "MaxPrice = max(data, key=price_extractor)\n",
    "MinPrice = min(data, key=price_extractor)\n",
    "print(countSong)\n",
    "print(primaryGenreName)\n",
    "print(countCollection)\n",
    "print(timeCount)\n",
    "print(AverageTime)\n",
    "print(MedianTime)\n",
    "print(LongestTime['trackName'], LongestTime['trackTimeMillis'])\n",
    "print(ShortesTime['trackName'], ShortesTime['trackTimeMillis'])\n",
    "print(AllTrackPrice)\n",
    "print(AverageTrackPrice)\n",
    "print(MedianTrackPrice)\n",
    "print(MaxPrice['trackName'], MaxPrice['trackPrice'])\n",
    "print(MinPrice['trackName'], MinPrice['trackPrice'])"
   ]
  },
  {
   "cell_type": "code",
   "execution_count": 23,
   "metadata": {},
   "outputs": [
    {
     "name": "stdout",
     "output_type": "stream",
     "text": [
      "{'Нечётный воин 2', 'Опиум', 'Триллер', 'Два kopablya', 'Ураган', 'Heroin0', 'Избранное', 'Скаzки', 'Майн кайф?', 'Коварство и любовь', 'Отчёт 1983-1993', 'Чудеса', 'Эпилог', 'Нечётный воин. Лучшее', 'Декаданс', 'Позорная звезда', '10 лет жизни, Часть 1 (Live)', 'Ностальгия'}\n",
      "{1080277953, 1017226147, 1137064868, 1140068164, 1139744676, 1137078503, 1139744137, 1139745226, 1079904812, 1518705709, 1137072496, 292131249, 1148877362, 1139745875, 1140110420, 1137066200, 1420439709, 1139743327}\n",
      "['Нечётный воин 2', 'Ностальгия', '10 лет жизни, Часть 1 (Live)', 'Отчёт 1983-1993', 'Избранное', 'Два kopablya', 'Скаzки', 'Heroin0', 'Декаданс', 'Коварство и любовь', 'Майн кайф?', 'Позорная звезда', 'Опиум', 'Триллер', 'Чудеса', 'Эпилог', 'Ураган', 'Нечётный воин. Лучшее']\n"
     ]
    }
   ],
   "source": [
    "from itertools import groupby\n",
    "\n",
    "album_name = set(list(map(lambda x: x['collectionName'], data)))\n",
    "album_id = set(list(map(lambda x: x['collectionId'], data)))\n",
    "\n",
    "print(album_name)\n",
    "print(album_id)\n",
    "\n",
    "collection_id_extractor = lambda x: x['collectionId']\n",
    "\n",
    "sorted_by_album = sorted(data, key=collection_id_extractor)\n",
    "album_groups = {}\n",
    "album_names = {}\n",
    "\n",
    "for album_id, songs in groupby(sorted_by_album, key=collection_id_extractor):\n",
    "    songs = list(songs)\n",
    "    album_groups[album_id] = songs \n",
    "    album_names[album_id] = songs[0]['collectionName']\n",
    "\n",
    "# Удаление переменной, действие опционально\n",
    "del sorted_by_album\n",
    "\n",
    "print(list(album_names.values()))"
   ]
  },
  {
   "cell_type": "code",
   "execution_count": 25,
   "metadata": {},
   "outputs": [
    {
     "name": "stdout",
     "output_type": "stream",
     "text": [
      "1\n",
      "['Rock']\n",
      "1\n",
      "228453\n",
      "228453\n",
      "228453\n",
      "Последнее письмо (Гудбай Америка) 228453\n",
      "Последнее письмо (Гудбай Америка) 228453\n",
      "1.29\n",
      "1.29\n",
      "1.29\n",
      "Последнее письмо (Гудбай Америка) 1.29\n",
      "Последнее письмо (Гудбай Америка) 1.29\n"
     ]
    }
   ],
   "source": [
    "album = list(album_groups[1080277953])\n",
    "album_name = album_names[1080277953]\n",
    "countSong_album = len(set(list(map(lambda x: x['trackName'], album))))\n",
    "primaryGenreName_album = list(map(lambda x: x['primaryGenreName'], album))\n",
    "countCollection_album = len(set(list(map(lambda x: x['collectionName'], album))))\n",
    "timeCount_album = sum(list(map(lambda x: x['trackTimeMillis'], album)))\n",
    "AverageTime_album = int(mean(list(map(lambda x: x['trackTimeMillis'], album))))\n",
    "MedianTime_album = list(map(lambda x: x['trackTimeMillis'], album))\n",
    "MedianTime_album.sort()\n",
    "MedianTime_album = median(MedianTime_album)\n",
    "time_extractor_album = lambda x: x['trackTimeMillis']\n",
    "LongestTime_album = max(album, key=time_extractor_album)\n",
    "ShortesTime_album = min(album, key=time_extractor_album)\n",
    "AllTrackPrice_album = sum(list(map(lambda x: x['trackPrice'], album)))\n",
    "AverageTrackPrice_album = mean(list(map(lambda x: x['trackPrice'], album)))\n",
    "MedianTrackPrice_album = list(map(lambda x: x['trackPrice'], album))\n",
    "MedianTrackPrice_album.sort()\n",
    "MedianTrackPrice_album = median(MedianTrackPrice_album)\n",
    "price_extractor_album = lambda x: x['trackPrice']\n",
    "MaxPrice_album = max(album, key=price_extractor_album)\n",
    "MinPrice_album = min(album, key=price_extractor_album)\n",
    "print(countSong_album)\n",
    "print(primaryGenreName_album)\n",
    "print(countCollection_album)\n",
    "print(timeCount_album)\n",
    "print(AverageTime_album)\n",
    "print(MedianTime_album)\n",
    "print(LongestTime_album['trackName'], LongestTime_album['trackTimeMillis'])\n",
    "print(ShortesTime_album['trackName'], ShortesTime_album['trackTimeMillis'])\n",
    "print(AllTrackPrice_album)\n",
    "print(AverageTrackPrice_album)\n",
    "print(MedianTrackPrice_album)\n",
    "print(MaxPrice_album['trackName'], MaxPrice_album['trackPrice'])\n",
    "print(MinPrice_album['trackName'], MinPrice_album['trackPrice'])"
   ]
  }
 ],
 "metadata": {
  "kernelspec": {
   "display_name": "Python 3.10.8 64-bit",
   "language": "python",
   "name": "python3"
  },
  "language_info": {
   "codemirror_mode": {
    "name": "ipython",
    "version": 3
   },
   "file_extension": ".py",
   "mimetype": "text/x-python",
   "name": "python",
   "nbconvert_exporter": "python",
   "pygments_lexer": "ipython3",
   "version": "3.10.8"
  },
  "orig_nbformat": 4,
  "vscode": {
   "interpreter": {
    "hash": "bf71e34002a76707f5a4220d3f906aca16475517a0fa236312ae769c600e7c29"
   }
  }
 },
 "nbformat": 4,
 "nbformat_minor": 2
}
